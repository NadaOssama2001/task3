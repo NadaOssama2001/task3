{
 "cells": [
  {
   "cell_type": "markdown",
   "id": "638b31a0-bdb2-4215-81b0-41fc5a87a34b",
   "metadata": {
    "tags": []
   },
   "source": [
    "### Transform the code you made for calculating the area of a circleinto \n",
    "function that:\n",
    "\n",
    "○ Takes the radius as inputs\n",
    "\n",
    "○ Gives the area as an output\n"
   ]
  },
  {
   "cell_type": "code",
   "execution_count": 8,
   "id": "1cd5082e-f973-435e-b796-f1ef5e0217c5",
   "metadata": {},
   "outputs": [
    {
     "name": "stdin",
     "output_type": "stream",
     "text": [
      "enter the radius of the given circle:  3\n"
     ]
    }
   ],
   "source": [
    "import math  \n",
    "  \n",
    "def area_of_the_circle (Radius):   \n",
    "    area = Radius** 2 * math.pi  \n",
    "    return area  \n",
    "  \n",
    "Radius = float (input (\"enter the radius of the given circle: \"))  \n"
   ]
  },
  {
   "cell_type": "code",
   "execution_count": 9,
   "id": "01993f7b-37c8-42d1-86b3-5e45b0113313",
   "metadata": {},
   "outputs": [
    {
     "name": "stdout",
     "output_type": "stream",
     "text": [
      " The area of the given circle is:  28.274333882308138\n"
     ]
    }
   ],
   "source": [
    "print (\" The area of the given circle is: \", area_of_the_circle (Radius))  "
   ]
  },
  {
   "cell_type": "markdown",
   "id": "3e81cce6-690c-422d-8c26-9029d4bdd3c7",
   "metadata": {},
   "source": [
    "### write a function to calculate the factorialof \n",
    "\n",
    "a given number and returns the result:"
   ]
  },
  {
   "cell_type": "markdown",
   "id": "40af4086-f755-4537-abf2-b7a21171babb",
   "metadata": {},
   "source": [
    "○ 1! = 1\n",
    "\n",
    "○ 3! = 3*2*1\n",
    "\n",
    "○ 5! = 5*4*3*2*1\n"
   ]
  },
  {
   "cell_type": "code",
   "execution_count": 20,
   "id": "534fb5c7-6731-4df8-b0b3-a62ee8dc0770",
   "metadata": {},
   "outputs": [
    {
     "name": "stdin",
     "output_type": "stream",
     "text": [
      "number to compute the factiorial :  4\n"
     ]
    },
    {
     "name": "stdout",
     "output_type": "stream",
     "text": [
      "24\n"
     ]
    }
   ],
   "source": [
    "def fact(n):\n",
    "    if n == 0:\n",
    "        return 1\n",
    "    else:\n",
    "        return n * fact(n-1)\n",
    "\n",
    "n=int(input(\"number to compute the factiorial : \"))\n",
    "\n",
    "print(fact(n))\n"
   ]
  },
  {
   "cell_type": "code",
   "execution_count": null,
   "id": "444a4d8a-8be0-4920-934f-6f97817b4c84",
   "metadata": {},
   "outputs": [],
   "source": []
  }
 ],
 "metadata": {
  "kernelspec": {
   "display_name": "Python 3 (ipykernel)",
   "language": "python",
   "name": "python3"
  },
  "language_info": {
   "codemirror_mode": {
    "name": "ipython",
    "version": 3
   },
   "file_extension": ".py",
   "mimetype": "text/x-python",
   "name": "python",
   "nbconvert_exporter": "python",
   "pygments_lexer": "ipython3",
   "version": "3.9.12"
  }
 },
 "nbformat": 4,
 "nbformat_minor": 5
}
